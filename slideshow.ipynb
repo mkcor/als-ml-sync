{
 "cells": [
  {
   "cell_type": "markdown",
   "id": "e8a7ba2b",
   "metadata": {
    "slideshow": {
     "slide_type": "slide"
    }
   },
   "source": [
    "# Segmenting synchrotron x-radiographs with scikit-image\n",
    "\n",
    "<center><h2>Marianne Corvellec</h2></center>\n",
    "<center>\n",
    "    <img src=\"images/skimage_logo.png\" width=\"300\">\n",
    "    <img src=\"images/igdore_logo.png\" width=\"300\">\n",
    "</center>\n",
    "\n",
    "#### ALS User Meeting — August 12, 2021 ― Machine Learning for Synchrotrons"
   ]
  },
  {
   "cell_type": "markdown",
   "id": "f7f4ce47",
   "metadata": {
    "slideshow": {
     "slide_type": "slide"
    }
   },
   "source": [
    "# Parent project: Quantifying solidification of metallic alloys with scikit-image\n",
    "\n",
    "<center><h2>with C. Gus Becker</h2></center>\n",
    "<center>\n",
    "    <img src=\"images/csm_logo.png\" width=\"400\">\n",
    "    <img src=\"images/canfsa_logo.png\" width=\"300\">\n",
    "</center>\n",
    "\n",
    "#### See our talk at BIDS ImageXD 2021:\n",
    "#### https://www.youtube.com/watch?v=cB1HTgmWTd8"
   ]
  },
  {
   "cell_type": "markdown",
   "id": "aea7cf24",
   "metadata": {
    "slideshow": {
     "slide_type": "slide"
    }
   },
   "source": [
    "# Tracking the solid-liquid (S-L) interface\n",
    "\n",
    "... to estimate the solidification velocity in a nickel alloy sample."
   ]
  },
  {
   "cell_type": "code",
   "execution_count": null,
   "id": "bedea14b",
   "metadata": {
    "slideshow": {
     "slide_type": "-"
    }
   },
   "outputs": [],
   "source": [
    "import numpy as np\n",
    "import pandas as pd"
   ]
  },
  {
   "cell_type": "code",
   "execution_count": null,
   "id": "bf5da6b6",
   "metadata": {
    "slideshow": {
     "slide_type": "-"
    }
   },
   "outputs": [],
   "source": [
    "import imageio as io"
   ]
  },
  {
   "cell_type": "code",
   "execution_count": null,
   "id": "404098e0",
   "metadata": {
    "slideshow": {
     "slide_type": "-"
    }
   },
   "outputs": [],
   "source": [
    "import plotly.express as px"
   ]
  },
  {
   "cell_type": "code",
   "execution_count": null,
   "id": "b472ced2",
   "metadata": {
    "slideshow": {
     "slide_type": "-"
    }
   },
   "outputs": [],
   "source": [
    "from skimage import measure, segmentation"
   ]
  },
  {
   "cell_type": "markdown",
   "id": "8bbad60d",
   "metadata": {},
   "source": [
    "#### https://scikit-image.org/"
   ]
  },
  {
   "cell_type": "code",
   "execution_count": null,
   "id": "9fb63f39",
   "metadata": {
    "slideshow": {
     "slide_type": "slide"
    }
   },
   "outputs": [],
   "source": [
    "reader = io.get_reader('data/nickel_solidification.tif')"
   ]
  },
  {
   "cell_type": "code",
   "execution_count": null,
   "id": "046ca0a5",
   "metadata": {},
   "outputs": [],
   "source": [
    "y1 = 0\n",
    "y2 = 180\n",
    "x1 = 100\n",
    "x2 = 330"
   ]
  },
  {
   "cell_type": "code",
   "execution_count": null,
   "id": "660366e2",
   "metadata": {},
   "outputs": [],
   "source": [
    "collection = []\n",
    "\n",
    "for img in reader:\n",
    "    collection.append(img[y1:y2, x1:x2])\n",
    "\n",
    "collection = np.array(collection)"
   ]
  },
  {
   "cell_type": "code",
   "execution_count": null,
   "id": "8296ddc7",
   "metadata": {
    "slideshow": {
     "slide_type": "-"
    }
   },
   "outputs": [],
   "source": [
    "collection.shape"
   ]
  },
  {
   "cell_type": "code",
   "execution_count": null,
   "id": "3d434dda",
   "metadata": {
    "slideshow": {
     "slide_type": "subslide"
    }
   },
   "outputs": [],
   "source": [
    "fig = px.imshow(collection, animation_frame=0, binary_string=True)\n",
    "fig.show()"
   ]
  },
  {
   "cell_type": "markdown",
   "id": "76b9affc",
   "metadata": {},
   "source": [
    "Imaging technique: Synchrotron x-radiography at the Advanced Photon Source (APS) of Argonne National Laboratory (ANL)"
   ]
  },
  {
   "cell_type": "markdown",
   "id": "03d94bef",
   "metadata": {
    "slideshow": {
     "slide_type": "slide"
    }
   },
   "source": [
    "# Using the flood-fill algorithm\n",
    "\n",
    "... to identify the liquid area."
   ]
  },
  {
   "cell_type": "code",
   "execution_count": null,
   "id": "cc53cf73",
   "metadata": {
    "slideshow": {
     "slide_type": "-"
    }
   },
   "outputs": [],
   "source": [
    "hline = 59\n",
    "seed = pd.DataFrame({'y': [75], 'x': [110]})"
   ]
  },
  {
   "cell_type": "code",
   "execution_count": null,
   "id": "53f7c94e",
   "metadata": {
    "slideshow": {
     "slide_type": "-"
    }
   },
   "outputs": [],
   "source": [
    "liquid = segmentation.flood(\n",
    "    collection[0],\n",
    "    seed_point=(seed.loc[0, 'y'], seed.loc[0, 'x']),\n",
    "    tolerance=5000\n",
    ")"
   ]
  },
  {
   "cell_type": "code",
   "execution_count": null,
   "id": "a5d2e44d",
   "metadata": {},
   "outputs": [],
   "source": [
    "regions = measure.regionprops_table(measure.label(liquid))\n",
    "regions"
   ]
  },
  {
   "cell_type": "code",
   "execution_count": null,
   "id": "e504b05a",
   "metadata": {
    "slideshow": {
     "slide_type": "subslide"
    }
   },
   "outputs": [],
   "source": [
    "fig = px.imshow(collection[0], color_continuous_scale='gray')\n",
    "fig.add_hline(y=hline, line_color='blue')\n",
    "fig.add_scatter(x=seed['x'], y=seed['y'])"
   ]
  },
  {
   "cell_type": "code",
   "execution_count": null,
   "id": "ec862447",
   "metadata": {
    "slideshow": {
     "slide_type": "subslide"
    }
   },
   "outputs": [],
   "source": [
    "fig = px.imshow(liquid, color_continuous_scale='gray')\n",
    "fig.show()"
   ]
  }
 ],
 "metadata": {
  "celltoolbar": "Slideshow",
  "kernelspec": {
   "display_name": "Python 3 (ipykernel)",
   "language": "python",
   "name": "python3"
  },
  "language_info": {
   "codemirror_mode": {
    "name": "ipython",
    "version": 3
   },
   "file_extension": ".py",
   "mimetype": "text/x-python",
   "name": "python",
   "nbconvert_exporter": "python",
   "pygments_lexer": "ipython3",
   "version": "3.9.6"
  }
 },
 "nbformat": 4,
 "nbformat_minor": 5
}
