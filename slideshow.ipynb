{
 "cells": [
  {
   "cell_type": "markdown",
   "id": "e8a7ba2b",
   "metadata": {
    "slideshow": {
     "slide_type": "slide"
    }
   },
   "source": [
    "# Segmenting synchrotron x-radiographs with scikit-image\n",
    "\n",
    "<center><h2>Marianne Corvellec</h2></center>\n",
    "<center>\n",
    "    <img src=\"images/skimage_logo.png\" width=\"300\">\n",
    "    <img src=\"images/igdore_logo.png\" width=\"300\">\n",
    "</center>\n",
    "\n",
    "#### ALS User Meeting — August 12, 2021 ― Machine Learning for Synchrotrons"
   ]
  },
  {
   "cell_type": "markdown",
   "id": "f7f4ce47",
   "metadata": {
    "slideshow": {
     "slide_type": "slide"
    }
   },
   "source": [
    "# Parent project: Quantifying solidification of metallic alloys with scikit-image\n",
    "\n",
    "<center><h2>with C. Gus Becker</h2></center>\n",
    "<center>\n",
    "    <img src=\"images/csm_logo.png\" width=\"400\">\n",
    "    <img src=\"images/canfsa_logo.png\" width=\"300\">\n",
    "</center>\n",
    "\n",
    "#### See our talk at BIDS ImageXD 2021:\n",
    "#### https://www.youtube.com/watch?v=cB1HTgmWTd8"
   ]
  },
  {
   "cell_type": "markdown",
   "id": "aea7cf24",
   "metadata": {
    "slideshow": {
     "slide_type": "slide"
    }
   },
   "source": [
    "# Tracking the solid-liquid (S-L) interface\n",
    "\n",
    "... to estimate the solidification velocity in a nickel alloy sample."
   ]
  },
  {
   "cell_type": "code",
   "execution_count": null,
   "id": "bedea14b",
   "metadata": {
    "slideshow": {
     "slide_type": "-"
    }
   },
   "outputs": [],
   "source": [
    "import numpy as np\n",
    "import pandas as pd"
   ]
  },
  {
   "cell_type": "code",
   "execution_count": null,
   "id": "bf5da6b6",
   "metadata": {
    "slideshow": {
     "slide_type": "-"
    }
   },
   "outputs": [],
   "source": [
    "import imageio as io"
   ]
  },
  {
   "cell_type": "code",
   "execution_count": null,
   "id": "404098e0",
   "metadata": {
    "slideshow": {
     "slide_type": "-"
    }
   },
   "outputs": [],
   "source": [
    "import plotly.express as px"
   ]
  },
  {
   "cell_type": "code",
   "execution_count": null,
   "id": "b472ced2",
   "metadata": {
    "slideshow": {
     "slide_type": "-"
    }
   },
   "outputs": [],
   "source": [
    "from skimage import measure, segmentation"
   ]
  },
  {
   "cell_type": "markdown",
   "id": "8bbad60d",
   "metadata": {},
   "source": [
    "#### https://scikit-image.org/"
   ]
  },
  {
   "cell_type": "code",
   "execution_count": null,
   "id": "cb36b692",
   "metadata": {
    "slideshow": {
     "slide_type": "slide"
    }
   },
   "outputs": [],
   "source": [
    "collection = io.volread('data/nickel_solidification.tif')"
   ]
  },
  {
   "cell_type": "code",
   "execution_count": null,
   "id": "534779d9",
   "metadata": {},
   "outputs": [],
   "source": [
    "y1 = 0\n",
    "y2 = 180\n",
    "x1 = 100\n",
    "x2 = 330"
   ]
  },
  {
   "cell_type": "code",
   "execution_count": null,
   "id": "88575deb",
   "metadata": {},
   "outputs": [],
   "source": [
    "collection = collection[:, y1:y2, x1:x2]"
   ]
  },
  {
   "cell_type": "code",
   "execution_count": null,
   "id": "8296ddc7",
   "metadata": {
    "slideshow": {
     "slide_type": "-"
    }
   },
   "outputs": [],
   "source": [
    "collection.shape"
   ]
  },
  {
   "cell_type": "code",
   "execution_count": null,
   "id": "3d434dda",
   "metadata": {
    "slideshow": {
     "slide_type": "subslide"
    }
   },
   "outputs": [],
   "source": [
    "fig = px.imshow(collection, animation_frame=0, binary_string=True)\n",
    "fig.show()"
   ]
  },
  {
   "cell_type": "markdown",
   "id": "76b9affc",
   "metadata": {},
   "source": [
    "Imaging technique: Synchrotron x-radiography at the Advanced Photon Source (APS) of Argonne National Laboratory (ANL)"
   ]
  },
  {
   "cell_type": "markdown",
   "id": "e958ddbc",
   "metadata": {
    "slideshow": {
     "slide_type": "slide"
    }
   },
   "source": [
    "# Using the flood-fill algorithm\n",
    "\n",
    "... to identify the liquid area."
   ]
  },
  {
   "cell_type": "code",
   "execution_count": null,
   "id": "cce7e383",
   "metadata": {
    "slideshow": {
     "slide_type": "-"
    }
   },
   "outputs": [],
   "source": [
    "hline = 59\n",
    "seed = pd.DataFrame({'y': [75], 'x': [110]})"
   ]
  },
  {
   "cell_type": "code",
   "execution_count": null,
   "id": "c4ffc2d5",
   "metadata": {
    "slideshow": {
     "slide_type": "-"
    }
   },
   "outputs": [],
   "source": [
    "liquid = segmentation.flood(\n",
    "    collection[0],\n",
    "    seed_point=(seed.loc[0, 'y'], seed.loc[0, 'x']),\n",
    "    tolerance=5000\n",
    ")"
   ]
  },
  {
   "cell_type": "code",
   "execution_count": null,
   "id": "8c613caa",
   "metadata": {},
   "outputs": [],
   "source": [
    "regions = measure.regionprops_table(measure.label(liquid))\n",
    "regions"
   ]
  },
  {
   "cell_type": "code",
   "execution_count": null,
   "id": "1d8aca73",
   "metadata": {
    "slideshow": {
     "slide_type": "subslide"
    }
   },
   "outputs": [],
   "source": [
    "fig = px.imshow(collection[0], color_continuous_scale='gray')\n",
    "fig.add_hline(y=hline, line_color='blue')\n",
    "fig.add_scatter(x=seed['x'], y=seed['y'])"
   ]
  },
  {
   "cell_type": "code",
   "execution_count": null,
   "id": "a129e2d7",
   "metadata": {
    "slideshow": {
     "slide_type": "subslide"
    }
   },
   "outputs": [],
   "source": [
    "fig = px.imshow(liquid, color_continuous_scale='gray')\n",
    "fig.show()"
   ]
  },
  {
   "cell_type": "markdown",
   "id": "d0609f44",
   "metadata": {
    "slideshow": {
     "slide_type": "slide"
    }
   },
   "source": [
    "# Providing the series of seed points\n",
    "\n",
    "... to start the flood fill."
   ]
  },
  {
   "cell_type": "code",
   "execution_count": null,
   "id": "9fc71973",
   "metadata": {},
   "outputs": [],
   "source": [
    "N = collection.shape[0]"
   ]
  },
  {
   "cell_type": "code",
   "execution_count": null,
   "id": "e193eb66",
   "metadata": {},
   "outputs": [],
   "source": [
    "seeds = pd.DataFrame({'y': [75, 75, 75, 73, 73, 72, 72, 70, 70, 70],\n",
    "                      'x': [110] * (N - 1)})"
   ]
  },
  {
   "cell_type": "code",
   "execution_count": null,
   "id": "61456808",
   "metadata": {},
   "outputs": [],
   "source": [
    "seeds = pd.concat([seed, seeds], ignore_index=True)"
   ]
  },
  {
   "cell_type": "markdown",
   "id": "6463113f",
   "metadata": {
    "slideshow": {
     "slide_type": "subslide"
    }
   },
   "source": [
    "What about using machine learning (gradient descent) to find seed points?"
   ]
  },
  {
   "cell_type": "code",
   "execution_count": null,
   "id": "68ab3313",
   "metadata": {},
   "outputs": [],
   "source": [
    "fig = px.scatter(y=collection[0, :, seed.loc[0, 'x']])\n",
    "fig.show()"
   ]
  },
  {
   "cell_type": "code",
   "execution_count": null,
   "id": "571ac59e",
   "metadata": {
    "slideshow": {
     "slide_type": "slide"
    }
   },
   "outputs": [],
   "source": [
    "bounds = pd.DataFrame(np.zeros((N, 2)), columns=['upper', 'lower'])"
   ]
  },
  {
   "cell_type": "code",
   "execution_count": null,
   "id": "2a9bd858",
   "metadata": {
    "slideshow": {
     "slide_type": "-"
    }
   },
   "outputs": [],
   "source": [
    "for i in range(N):\n",
    "    liquid = segmentation.flood(\n",
    "        collection[i],\n",
    "        seed_point=(seeds.loc[i, 'y'], seeds.loc[i, 'x']),\n",
    "        tolerance=5000\n",
    "    )\n",
    "    regions = measure.regionprops_table(measure.label(liquid))\n",
    "    bounds.loc[i, 'upper'] = regions['bbox-0']\n",
    "    bounds.loc[i, 'lower'] = regions['bbox-2']"
   ]
  },
  {
   "cell_type": "code",
   "execution_count": null,
   "id": "e07f81a1",
   "metadata": {},
   "outputs": [],
   "source": [
    "bounds"
   ]
  },
  {
   "cell_type": "markdown",
   "id": "203b1609",
   "metadata": {
    "slideshow": {
     "slide_type": "subslide"
    }
   },
   "source": [
    "Sanity check for the upper bound (liquid area)"
   ]
  },
  {
   "cell_type": "code",
   "execution_count": null,
   "id": "8fdc6292",
   "metadata": {},
   "outputs": [],
   "source": [
    "fig = px.scatter(bounds, y='upper')\n",
    "fig.add_hline(y=hline, line_color='blue')\n",
    "fig.show()"
   ]
  },
  {
   "cell_type": "code",
   "execution_count": null,
   "id": "d37705bc",
   "metadata": {
    "slideshow": {
     "slide_type": "slide"
    }
   },
   "outputs": [],
   "source": [
    "bounds['lower'] = bounds['lower'] - hline\n",
    "fig = px.scatter(bounds, y='lower')\n",
    "fig.show()"
   ]
  },
  {
   "cell_type": "markdown",
   "id": "0ac2edf5",
   "metadata": {
    "slideshow": {
     "slide_type": "slide"
    }
   },
   "source": [
    "<center>\n",
    "    <img src=\"images/prior_SL_detection.png\" width=\"600\">\n",
    "</center>"
   ]
  }
 ],
 "metadata": {
  "celltoolbar": "Slideshow",
  "kernelspec": {
   "display_name": "Python 3 (ipykernel)",
   "language": "python",
   "name": "python3"
  },
  "language_info": {
   "codemirror_mode": {
    "name": "ipython",
    "version": 3
   },
   "file_extension": ".py",
   "mimetype": "text/x-python",
   "name": "python",
   "nbconvert_exporter": "python",
   "pygments_lexer": "ipython3",
   "version": "3.9.6"
  }
 },
 "nbformat": 4,
 "nbformat_minor": 5
}
